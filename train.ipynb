{
 "cells": [
  {
   "cell_type": "code",
   "execution_count": 1,
   "metadata": {},
   "outputs": [],
   "source": [
    "import pandas as pd\n",
    "import tensorflow as tf\n",
    "import librosa\n",
    "from sklearn.model_selection import train_test_split\n",
    "import numpy as np\n",
    "\n"
   ]
  },
  {
   "cell_type": "code",
   "execution_count": 2,
   "metadata": {},
   "outputs": [],
   "source": [
    "dataset_df = pd.read_csv('dataset.csv').to_numpy()\n",
    "sounds_dataset = dataset_df[:, 0]\n",
    "sr = 0\n",
    "for i in range(len(sounds_dataset)):\n",
    "    sounds_dataset[i], sr = librosa.load(f'Noisy-sounds/{sounds_dataset[i]}.wav')\n",
    "\n",
    "label_dataset = dataset_df[:, 1]\n",
    "for i in range(len(label_dataset)):\n",
    "    label_dataset[i], sr = librosa.load(f'Clean-sounds/{label_dataset[i]}.wav')\n",
    "\n",
    "X_train, X_test, y_train, y_test = train_test_split(sounds_dataset, label_dataset, test_size=0.1, random_state=42)\n",
    "\n"
   ]
  },
  {
   "cell_type": "code",
   "execution_count": 3,
   "metadata": {},
   "outputs": [
    {
     "name": "stdout",
     "output_type": "stream",
     "text": [
      "22050\n"
     ]
    }
   ],
   "source": [
    "print(sr)\n",
    "def to_spectogram(sound):\n",
    "    stft = librosa.stft(sound.astype(np.float64), n_fft=64, hop_length=32)\n",
    "    stft = np.abs(stft)\n",
    "    db = librosa.amplitude_to_db(stft, ref=np.max)\n",
    "    return np.array(db)\n"
   ]
  },
  {
   "cell_type": "code",
   "execution_count": 4,
   "metadata": {},
   "outputs": [],
   "source": [
    "spectogram_train = []\n",
    "for x in X_train:\n",
    "    spectogram_train.append(to_spectogram(x))\n",
    "spectogram_label = []\n",
    "for x in y_train:\n",
    "    spectogram_label.append(to_spectogram(x))\n",
    "spectogram_val = []\n",
    "for x in X_test:\n",
    "    spectogram_val.append(to_spectogram(x))\n",
    "spectogram_val_label = []\n",
    "for x in y_test:\n",
    "    spectogram_val_label.append(to_spectogram(x))\n",
    "\n"
   ]
  },
  {
   "cell_type": "code",
   "execution_count": 5,
   "metadata": {},
   "outputs": [],
   "source": [
    "X_train = []\n",
    "y_train = []\n",
    "X_test = []\n",
    "y_test = []\n"
   ]
  },
  {
   "cell_type": "code",
   "execution_count": 6,
   "metadata": {},
   "outputs": [],
   "source": [
    "def split_to_ms(vector):\n",
    "    frame_size = 16\n",
    "    final = []\n",
    "    for i in range(len(vector)):\n",
    "        crt = []\n",
    "        vec = vector[i]\n",
    "        for col in range(0, len(vec[0]), frame_size):\n",
    "            for j in range(len(vec)):\n",
    "                crt.append(vec[j][col:col+frame_size])\n",
    "            if len(crt[0]) != frame_size:\n",
    "                for j in range(len(crt)):\n",
    "                    crt[j] = np.pad(crt[j], ((0, frame_size - len(crt[j]))))\n",
    "            final.append(np.array(crt))\n",
    "            break\n",
    "        break   \n",
    "    final = np.array(final)\n",
    "    print(final.shape)\n",
    "    return final\n"
   ]
  },
  {
   "cell_type": "code",
   "execution_count": 7,
   "metadata": {},
   "outputs": [
    {
     "name": "stdout",
     "output_type": "stream",
     "text": [
      "(1, 33, 16)\n",
      "(1, 33, 16)\n",
      "(1, 33, 16)\n",
      "(1, 33, 16)\n",
      "3449\n",
      "33\n"
     ]
    }
   ],
   "source": [
    "max_len = 0\n",
    "\n",
    "X_train = split_to_ms(spectogram_train)\n",
    "y_train = split_to_ms(spectogram_label)\n",
    "X_test = split_to_ms(spectogram_val)\n",
    "y_test = split_to_ms(spectogram_val_label)\n",
    "\n",
    "for x in spectogram_train:\n",
    "    max_len = max(max_len, len(x[0]))\n",
    "for x in spectogram_label:\n",
    "    max_len = max(max_len, len(x[0]))\n",
    "for x in spectogram_val:\n",
    "    max_len = max(max_len, len(x[0]))\n",
    "for x in spectogram_val_label:\n",
    "    max_len = max(max_len, len(x[0]))\n",
    "print(max_len)\n",
    "print(len(spectogram_train[0]))"
   ]
  },
  {
   "cell_type": "code",
   "execution_count": null,
   "metadata": {},
   "outputs": [],
   "source": [
    "def pad_vector(vec):\n",
    "    for i in range(len(vec)):\n",
    "        vec[i] = np.pad(vec[i], ((0, 0), (0, max_len - len(vec[i][0]))))\n",
    "    return vec"
   ]
  },
  {
   "cell_type": "code",
   "execution_count": null,
   "metadata": {},
   "outputs": [],
   "source": [
    "spectogram_train = pad_vector(spectogram_train)\n",
    "spectogram_label = pad_vector(spectogram_label)\n",
    "spectogram_val = pad_vector(spectogram_val)\n",
    "spectogram_val_label = pad_vector(spectogram_val_label)"
   ]
  },
  {
   "cell_type": "code",
   "execution_count": null,
   "metadata": {},
   "outputs": [],
   "source": [
    "spectogram_train = np.array(spectogram_train)\n",
    "spectogram_label = np.array(spectogram_label)\n",
    "spectogram_val = np.array(spectogram_val)\n",
    "spectogram_val_label = np.array(spectogram_val_label)"
   ]
  },
  {
   "cell_type": "code",
   "execution_count": null,
   "metadata": {},
   "outputs": [],
   "source": [
    "spectogram_train = spectogram_train / -80\n",
    "spectogram_label = spectogram_label / -80\n",
    "spectogram_val = spectogram_val / -80\n",
    "spectogram_val_label = spectogram_val_label / -80"
   ]
  },
  {
   "cell_type": "code",
   "execution_count": null,
   "metadata": {},
   "outputs": [],
   "source": [
    "print(spectogram_train.shape)"
   ]
  },
  {
   "cell_type": "code",
   "execution_count": null,
   "metadata": {},
   "outputs": [],
   "source": [
    "test = spectogram_train[0] * -80\n",
    "librosa.display.specshow(test, y_axis='log', x_axis='time')"
   ]
  },
  {
   "cell_type": "code",
   "execution_count": null,
   "metadata": {},
   "outputs": [],
   "source": [
    "print(np.min(spectogram_train[0]), np.max(spectogram_train[0]))"
   ]
  },
  {
   "cell_type": "code",
   "execution_count": null,
   "metadata": {},
   "outputs": [],
   "source": [
    "import tensorflow as tf\n",
    "from tensorflow.keras.layers import *\n",
    "from tensorflow.keras.models import Model\n",
    "from tensorflow import keras\n",
    "# Define the dimensions of the input data\n",
    "input_shape = (129, 863, 1)  # MNIST dataset has 28x28 grayscale images\n",
    "\n",
    "inputs = tf.keras.Input(shape=input_shape)\n",
    "\n",
    "# Encoder\n",
    "conv1 = keras.layers.Conv2D(64, (3, 3), activation='relu', padding='same')(inputs)\n",
    "conv1 = keras.layers.Conv2D(64, (3, 3), activation='relu', padding='same')(conv1)\n",
    "conv1 = keras.layers.Cropping2D(((0, 1), (0, 7)))(conv1)\n",
    "pool1 = keras.layers.MaxPooling2D(pool_size=(2, 2))(conv1)\n",
    "\n",
    "conv2 = keras.layers.Conv2D(128, (3, 3), activation='relu', padding='same')(pool1)\n",
    "conv2 = keras.layers.Conv2D(128, (3, 3), activation='relu', padding='same')(conv2)\n",
    "pool2 = keras.layers.MaxPooling2D(pool_size=(2, 2))(conv2)\n",
    "\n",
    "conv3 = keras.layers.Conv2D(256, (3, 3), activation='relu', padding='same')(pool2)\n",
    "conv3 = keras.layers.Conv2D(256, (3, 3), activation='relu', padding='same')(conv3)\n",
    "pool3 = keras.layers.MaxPooling2D(pool_size=(2, 2))(conv3)\n",
    "\n",
    "# Decoder\n",
    "conv4 = keras.layers.Conv2D(256, (3, 3), activation='relu', padding='same')(pool3)\n",
    "conv4 = keras.layers.Conv2D(256, (3, 3), activation='relu', padding='same')(conv4)\n",
    "up1 = keras.layers.UpSampling2D(size=2)(conv4)\n",
    "up1 = keras.layers.concatenate([conv3, up1], axis=-1)\n",
    "\n",
    "conv5 = keras.layers.Conv2D(128, (3, 3), activation='relu', padding='same')(up1)\n",
    "conv5 = keras.layers.Conv2D(128, (3, 3), activation='relu', padding='same')(conv5)\n",
    "up2 = keras.layers.UpSampling2D(size=(2, 2))(conv5)\n",
    "up2 = keras.layers.concatenate([conv2, up2], axis=-1)\n",
    "\n",
    "conv6 = keras.layers.Conv2D(64, (3, 3), activation='relu', padding='same')(up2)\n",
    "conv6 = keras.layers.Conv2D(64, (3, 3), activation='relu', padding='same')(conv6)\n",
    "up3 = keras.layers.UpSampling2D(size=(2, 2))(conv6)\n",
    "up3 = keras.layers.concatenate([conv1, up3], axis=-1)\n",
    "\n",
    "# Output layer\n",
    "outputs = keras.layers.Conv2DTranspose(16, (4, 4), activation='sigmoid')(up3)\n",
    "outputs = keras.layers.Conv2DTranspose(1, (5, 5), activation='sigmoid')(outputs)\n",
    "outputs = keras.layers.Cropping2D(((0, 6), (0, 0)))(outputs)\n",
    "\n",
    "\n",
    "\n",
    "model = Model(inputs=inputs, outputs=outputs)\n",
    "model.compile(optimizer='adam', loss='mse', metrics=['mae'])\n",
    "model.summary()"
   ]
  },
  {
   "cell_type": "code",
   "execution_count": null,
   "metadata": {},
   "outputs": [],
   "source": [
    "history = model.fit(spectogram_train, spectogram_label,\n",
    "                epochs=10,\n",
    "                batch_size=16,\n",
    "                shuffle=True,\n",
    "                validation_data=(spectogram_val, spectogram_val_label),)"
   ]
  },
  {
   "cell_type": "code",
   "execution_count": null,
   "metadata": {},
   "outputs": [],
   "source": [
    "sample, sr = librosa.load('Noisy-sounds/Sound2709.wav')\n",
    "sample = to_spectogram(sample)\n",
    "sample = np.array(sample)\n",
    "sample = np.pad(sample, ((0, 0), (0, max_len - len(sample[0]))))\n",
    "sample = np.expand_dims(sample, axis=0)\n",
    "sample = sample / -80\n",
    "\n",
    "prediction = model.predict(sample)\n",
    "\n",
    "import soundfile as sf\n",
    "import matplotlib.pyplot as plt\n",
    "prediction = np.squeeze(prediction)\n",
    "prediction = prediction * -80\n",
    "prediction = prediction + 3\n",
    "prediction = librosa.db_to_amplitude(prediction)\n",
    "prediction = librosa.griffinlim(prediction, hop_length=128, n_fft=256)\n",
    "\n",
    "sf.write('test_denoised.wav', prediction, sr)"
   ]
  },
  {
   "cell_type": "code",
   "execution_count": null,
   "metadata": {},
   "outputs": [],
   "source": [
    "target, sr = librosa.load('Clean-sounds/1087_MTI_DIS_XX.wav')\n",
    "target = np.pad(target, (0, len(prediction) - len(target)))\n",
    "print(np.mean((target - prediction)[:60000]))\n",
    "target = to_spectogram(target)\n",
    "librosa.display.specshow(target, y_axis='log', x_axis='time')"
   ]
  },
  {
   "cell_type": "code",
   "execution_count": null,
   "metadata": {},
   "outputs": [],
   "source": []
  }
 ],
 "metadata": {
  "kernelspec": {
   "display_name": "Python 3",
   "language": "python",
   "name": "python3"
  },
  "language_info": {
   "codemirror_mode": {
    "name": "ipython",
    "version": 3
   },
   "file_extension": ".py",
   "mimetype": "text/x-python",
   "name": "python",
   "nbconvert_exporter": "python",
   "pygments_lexer": "ipython3",
   "version": "3.10.1"
  }
 },
 "nbformat": 4,
 "nbformat_minor": 2
}
